{
 "cells": [
  {
   "cell_type": "markdown",
   "metadata": {},
   "source": [
    "# Starting out"
   ]
  },
  {
   "cell_type": "code",
   "execution_count": 8,
   "metadata": {},
   "outputs": [],
   "source": [
    "import os\n",
    "from openai import AzureOpenAI\n",
    "from dotenv import load_dotenv\n",
    "load_dotenv()\n",
    "from pprint import pprint"
   ]
  },
  {
   "cell_type": "markdown",
   "metadata": {},
   "source": [
    "## Chat completion"
   ]
  },
  {
   "cell_type": "code",
   "execution_count": 12,
   "metadata": {},
   "outputs": [
    {
     "name": "stdout",
     "output_type": "stream",
     "text": [
      "('Apologies for any confusion. As an AI assistant, I \"even\" by processing and '\n",
      " 'analyzing data or queries, providing relevant and accurate information, and '\n",
      " 'assisting users in various tasks. I follow predefined algorithms and utilize '\n",
      " 'natural language processing techniques to understand and respond to user '\n",
      " 'inputs effectively. Is there anything specific you would like assistance '\n",
      " 'with?')\n"
     ]
    }
   ],
   "source": [
    "chatClient = AzureOpenAI(\n",
    "  azure_endpoint=os.getenv(\"AOAI_ENDPOINT\"), \n",
    "  api_key=os.getenv(\"AOAI_KEY\"),  \n",
    "  api_version=\"2023-05-15\")\n",
    "\n",
    "chatResponse = chatClient.chat.completions.create(\n",
    "    model=\"gpt-35-turbo\",\n",
    "    messages=[\n",
    "        {\"role\": \"system\", \"content\": \"You are a helpful assistant.\"},\n",
    "        {\"role\": \"user\", \"content\": \"Do you even?\"},\n",
    "        {\"role\": \"assistant\", \"content\": \"Yes, I do even.\"},\n",
    "        {\"role\": \"user\", \"content\": \"\"\"OK, then tell me specifically how you even. \n",
    "                                       Don't just blabber about being an ai assistant\"\"\"}])\n",
    "\n",
    "pprint(chatResponse.choices[0].message.content)"
   ]
  },
  {
   "cell_type": "markdown",
   "metadata": {},
   "source": [
    "## Pydantic BaseModel\n",
    "\n",
    "We are using pydantic base models, which are nice. \n",
    "\n",
    "But they have some subtle behaviours that are important to know for working with"
   ]
  },
  {
   "cell_type": "markdown",
   "metadata": {},
   "source": [
    "Simplest model here is Department model. \n",
    "\n",
    "It stores information about a specific department at university."
   ]
  },
  {
   "cell_type": "code",
   "execution_count": 5,
   "metadata": {},
   "outputs": [],
   "source": [
    "# COPIED FROM MODELS DIRECTORY\n",
    "\n",
    "from pydantic import BaseModel\n",
    "\n",
    "class Department(BaseModel):\n",
    "    code: str     # ECE\n",
    "    pid: str      # ryAe4JY7V\n",
    "    name: str     # Electrical and Computer Engineering\n",
    "    faculty: str  # Engineering and Computer Science\n",
    "\n",
    "    class Config:\n",
    "        populate_by_name=True\n",
    "    \n",
    "    class Settings:\n",
    "        name = \"departments\""
   ]
  },
  {
   "cell_type": "markdown",
   "metadata": {},
   "source": [
    "Creating a Department object from JSON"
   ]
  },
  {
   "cell_type": "code",
   "execution_count": 7,
   "metadata": {},
   "outputs": [
    {
     "data": {
      "text/plain": [
       "Department(code='ECE', pid='ryAe4JY7V', name='Electrical and Computer Engineering', faculty='Engineering and Computer Science')"
      ]
     },
     "execution_count": 7,
     "metadata": {},
     "output_type": "execute_result"
    }
   ],
   "source": [
    "dept = {'pid' : 'ryAe4JY7V',\n",
    "        'code' : 'ECE',\n",
    "        'name': 'Electrical and Computer Engineering',\n",
    "        'faculty': 'Engineering and Computer Science'}\n",
    "\n",
    "Department(**dept)"
   ]
  },
  {
   "cell_type": "markdown",
   "metadata": {},
   "source": [
    "Nice thing about these models is data validation.\n",
    "\n",
    "But it can also be frustrating if you don't know what it wants. \n",
    "\n",
    "For example, trying to create without a required field will throw an error."
   ]
  },
  {
   "cell_type": "code",
   "execution_count": 8,
   "metadata": {},
   "outputs": [
    {
     "ename": "ValidationError",
     "evalue": "1 validation error for Department\ncode\n  Field required [type=missing, input_value={'pid': 'ryAe4JY7V', 'nam...g and Computer Science'}, input_type=dict]\n    For further information visit https://errors.pydantic.dev/2.7/v/missing",
     "output_type": "error",
     "traceback": [
      "\u001b[0;31m---------------------------------------------------------------------------\u001b[0m",
      "\u001b[0;31mValidationError\u001b[0m                           Traceback (most recent call last)",
      "Cell \u001b[0;32mIn[8], line 5\u001b[0m\n\u001b[1;32m      1\u001b[0m dept \u001b[38;5;241m=\u001b[39m {\u001b[38;5;124m'\u001b[39m\u001b[38;5;124mpid\u001b[39m\u001b[38;5;124m'\u001b[39m : \u001b[38;5;124m'\u001b[39m\u001b[38;5;124mryAe4JY7V\u001b[39m\u001b[38;5;124m'\u001b[39m,\n\u001b[1;32m      2\u001b[0m         \u001b[38;5;124m'\u001b[39m\u001b[38;5;124mname\u001b[39m\u001b[38;5;124m'\u001b[39m: \u001b[38;5;124m'\u001b[39m\u001b[38;5;124mElectrical and Computer Engineering\u001b[39m\u001b[38;5;124m'\u001b[39m,\n\u001b[1;32m      3\u001b[0m         \u001b[38;5;124m'\u001b[39m\u001b[38;5;124mfaculty\u001b[39m\u001b[38;5;124m'\u001b[39m: \u001b[38;5;124m'\u001b[39m\u001b[38;5;124mEngineering and Computer Science\u001b[39m\u001b[38;5;124m'\u001b[39m}\n\u001b[0;32m----> 5\u001b[0m \u001b[43mDepartment\u001b[49m\u001b[43m(\u001b[49m\u001b[38;5;241;43m*\u001b[39;49m\u001b[38;5;241;43m*\u001b[39;49m\u001b[43mdept\u001b[49m\u001b[43m)\u001b[49m\n",
      "File \u001b[0;32m~/ms/Guides/Mine/venv/lib/python3.12/site-packages/pydantic/main.py:176\u001b[0m, in \u001b[0;36mBaseModel.__init__\u001b[0;34m(self, **data)\u001b[0m\n\u001b[1;32m    174\u001b[0m \u001b[38;5;66;03m# `__tracebackhide__` tells pytest and some other tools to omit this function from tracebacks\u001b[39;00m\n\u001b[1;32m    175\u001b[0m __tracebackhide__ \u001b[38;5;241m=\u001b[39m \u001b[38;5;28;01mTrue\u001b[39;00m\n\u001b[0;32m--> 176\u001b[0m \u001b[38;5;28;43mself\u001b[39;49m\u001b[38;5;241;43m.\u001b[39;49m\u001b[43m__pydantic_validator__\u001b[49m\u001b[38;5;241;43m.\u001b[39;49m\u001b[43mvalidate_python\u001b[49m\u001b[43m(\u001b[49m\u001b[43mdata\u001b[49m\u001b[43m,\u001b[49m\u001b[43m \u001b[49m\u001b[43mself_instance\u001b[49m\u001b[38;5;241;43m=\u001b[39;49m\u001b[38;5;28;43mself\u001b[39;49m\u001b[43m)\u001b[49m\n",
      "\u001b[0;31mValidationError\u001b[0m: 1 validation error for Department\ncode\n  Field required [type=missing, input_value={'pid': 'ryAe4JY7V', 'nam...g and Computer Science'}, input_type=dict]\n    For further information visit https://errors.pydantic.dev/2.7/v/missing"
     ]
    }
   ],
   "source": [
    "dept = {'pid' : 'ryAe4JY7V',\n",
    "        'name': 'Electrical and Computer Engineering',\n",
    "        'faculty': 'Engineering and Computer Science'}\n",
    "\n",
    "Department(**dept)"
   ]
  },
  {
   "cell_type": "code",
   "execution_count": 10,
   "metadata": {},
   "outputs": [
    {
     "data": {
      "text/plain": [
       "Department(code=None, pid='ryAe4JY7V', name='Electrical and Computer Engineering', faculty='Engineering and Computer Science')"
      ]
     },
     "execution_count": 10,
     "metadata": {},
     "output_type": "execute_result"
    }
   ],
   "source": [
    "# CHANGING THE DEPARTMENT MODEL TO ALLOW OPTIONAL FIELDS\n",
    "\n",
    "from typing import Optional\n",
    "\n",
    "class Department(BaseModel):\n",
    "    code: Optional[str] = None  # ECE\n",
    "    pid: str                    # ryAe4JY7V\n",
    "    name: str                   # Electrical and Computer Engineering\n",
    "    faculty: str                # Engineering and Computer Science\n",
    "\n",
    "    class Config:\n",
    "        populate_by_name=True\n",
    "    \n",
    "    class Settings:\n",
    "        name = \"departments\"\n",
    "\n",
    "\n",
    "dept = {'pid' : 'ryAe4JY7V',\n",
    "        'name': 'Electrical and Computer Engineering',\n",
    "        'faculty': 'Engineering and Computer Science'}\n",
    "\n",
    "Department(**dept)"
   ]
  },
  {
   "cell_type": "markdown",
   "metadata": {},
   "source": [
    "**Last thing to mention is these models integrate nicely with FastAPI endpoints**"
   ]
  }
 ],
 "metadata": {
  "kernelspec": {
   "display_name": "Python 3",
   "language": "python",
   "name": "python3"
  },
  "language_info": {
   "codemirror_mode": {
    "name": "ipython",
    "version": 3
   },
   "file_extension": ".py",
   "mimetype": "text/x-python",
   "name": "python",
   "nbconvert_exporter": "python",
   "pygments_lexer": "ipython3",
   "version": "3.12.3"
  }
 },
 "nbformat": 4,
 "nbformat_minor": 2
}
