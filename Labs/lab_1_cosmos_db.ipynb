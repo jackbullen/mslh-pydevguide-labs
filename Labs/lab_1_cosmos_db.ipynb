{
 "cells": [
  {
   "cell_type": "markdown",
   "metadata": {},
   "source": [
    "# CosmosDB"
   ]
  },
  {
   "cell_type": "code",
   "execution_count": 36,
   "metadata": {},
   "outputs": [],
   "source": [
    "import os\n",
    "import pymongo\n",
    "from pymongo import UpdateOne, DeleteMany\n",
    "from pprint import pprint\n",
    "\n",
    "from bson.objectid import ObjectId\n",
    "\n",
    "from dotenv import load_dotenv\n",
    "load_dotenv()\n",
    "\n",
    "from models import (\n",
    "\n",
    "    Department,    # This we saw in previous lab\n",
    "\n",
    "    Course,        # This represents a course offered in Fall 24 / Spring 25, \n",
    "                   # it has a section field to hold Section objects\n",
    "\n",
    "    CalendarCourse,# This is a general course from the calendar, does not have sections, embeddings for courses are stored here\n",
    "\n",
    "    Degree         # This is from the calendar too, represents a university program\n",
    "\n",
    ")"
   ]
  },
  {
   "cell_type": "markdown",
   "metadata": {},
   "source": [
    "### Connect to CosmosDB instance"
   ]
  },
  {
   "cell_type": "code",
   "execution_count": 6,
   "metadata": {},
   "outputs": [
    {
     "name": "stderr",
     "output_type": "stream",
     "text": [
      "/var/folders/b6/zjrzfvq14h12kvt3_h7c4fwr0000gn/T/ipykernel_20200/4107983484.py:5: UserWarning: You appear to be connected to a CosmosDB cluster. For more information regarding feature compatibility and support please visit https://www.mongodb.com/supportability/cosmosdb\n",
      "  db_client = pymongo.MongoClient(CONNECTION_STRING)\n"
     ]
    }
   ],
   "source": [
    "# Get the CosmosDB connection string from .env file\n",
    "CONNECTION_STRING = os.getenv(\"DB_CONNECTION_STRING\")\n",
    "\n",
    "# Establish connection to CosmosDB\n",
    "db_client = pymongo.MongoClient(CONNECTION_STRING)\n",
    "\n",
    "# Store database into a variable\n",
    "db = db_client.db\n",
    "\n",
    "# Store collections into variables\n",
    "departments = db.departments\n",
    "courses = db.courses\n",
    "calendar_courses = db.calendar_courses\n",
    "degrees = db.degrees"
   ]
  },
  {
   "cell_type": "markdown",
   "metadata": {},
   "source": [
    "### Insert into MongoDB\n",
    "\n",
    "MongoDB collections hold JSON. \n",
    "\n",
    "One method of creating a document is using the `insert_one` method."
   ]
  },
  {
   "cell_type": "code",
   "execution_count": 8,
   "metadata": {},
   "outputs": [
    {
     "data": {
      "text/plain": [
       "ObjectId('66723bf8370e25ade8e3882d')"
      ]
     },
     "execution_count": 8,
     "metadata": {},
     "output_type": "execute_result"
    }
   ],
   "source": [
    "dept = Department(\n",
    "        code=\"ECE\",    \n",
    "        pid=\"ryAe4JY7V\", \n",
    "        name=\"Electrical and Computer Engineering\", \n",
    "        faculty=\"Engineering and Computer Science\")\n",
    "\n",
    "# Generate JSON\n",
    "dept_json = dept.model_dump()\n",
    "\n",
    "# Insert the JSON into the database, and retrieve the inserted/generated ID\n",
    "departments.insert_one(dept_json).inserted_id"
   ]
  },
  {
   "cell_type": "markdown",
   "metadata": {},
   "source": [
    "Since our JSON that we inserted did not have an **_id** field, the ID ObjectId('66723bf8370e25ade8e3882d') was auto generated.\n",
    "\n",
    "If we had _id on the json it would have used that instead.\n",
    "\n",
    "Another reason to use pydantic model is that it allows specifying aliases on object attributes and can be converted to JSON with alias names like so \n",
    "\n",
    "```python\n",
    "dept.model_dump(by_alias=True)\n",
    "```"
   ]
  },
  {
   "cell_type": "markdown",
   "metadata": {},
   "source": [
    "### Retrieve a document\n",
    "\n",
    "The `find_one` method is used to retrieve a single document from the database."
   ]
  },
  {
   "cell_type": "code",
   "execution_count": 20,
   "metadata": {},
   "outputs": [
    {
     "data": {
      "text/plain": [
       "{'_id': ObjectId('66723bf8370e25ade8e3882d'),\n",
       " 'code': 'ECE',\n",
       " 'pid': 'ryAe4JY7V',\n",
       " 'name': 'Electrical and Computer Engineering',\n",
       " 'faculty': 'Engineering and Computer Science'}"
      ]
     },
     "execution_count": 20,
     "metadata": {},
     "output_type": "execute_result"
    }
   ],
   "source": [
    "doc = departments.find_one({'_id': ObjectId('66723bf8370e25ade8e3882d')})\n",
    "\n",
    "doc"
   ]
  },
  {
   "cell_type": "code",
   "execution_count": 22,
   "metadata": {},
   "outputs": [
    {
     "data": {
      "text/plain": [
       "Department(code='ECE', pid='ryAe4JY7V', name='Electrical and Computer Engineering', faculty='Engineering and Computer Science')"
      ]
     },
     "execution_count": 22,
     "metadata": {},
     "output_type": "execute_result"
    }
   ],
   "source": [
    "# Cast JSON document into the Product model\n",
    "dept = Department(**doc)\n",
    "\n",
    "dept"
   ]
  },
  {
   "cell_type": "markdown",
   "metadata": {},
   "source": [
    "**Note:** Since when we put the data into the database it came from a Department model, there should never be any issue in casting to Product model. \n",
    "\n",
    "So long as aliases are setup properly..."
   ]
  },
  {
   "cell_type": "markdown",
   "metadata": {},
   "source": [
    "### Update a document\n",
    "\n",
    "`find_one_and_update` method is used to update a single document in the database. \n",
    "\n",
    "Find additional examples of queries in the [documentation](https://learn.microsoft.com/en-us/azure/cosmos-db/mongodb/tutorial-query)."
   ]
  },
  {
   "cell_type": "code",
   "execution_count": 29,
   "metadata": {},
   "outputs": [
    {
     "data": {
      "text/plain": [
       "(dict,\n",
       " {'_id': ObjectId('66723bf8370e25ade8e3882d'),\n",
       "  'code': 'CSC',\n",
       "  'pid': 'ryAe4JY7V',\n",
       "  'name': 'Electrical and Computer Engineering',\n",
       "  'faculty': 'Engineering and Computer Science'})"
      ]
     },
     "execution_count": 29,
     "metadata": {},
     "output_type": "execute_result"
    }
   ],
   "source": [
    "result = departments.find_one_and_update(\n",
    "    {\"_id\": ObjectId('66723bf8370e25ade8e3882d')},\n",
    "    {\"$set\": {\"code\": \"CSC\"}},\n",
    "    return_document=pymongo.ReturnDocument.AFTER)\n",
    "\n",
    "type(result), result"
   ]
  },
  {
   "cell_type": "code",
   "execution_count": 30,
   "metadata": {},
   "outputs": [
    {
     "data": {
      "text/plain": [
       "(models.department.Department,\n",
       " Department(code='CSC', pid='ryAe4JY7V', name='Electrical and Computer Engineering', faculty='Engineering and Computer Science'))"
      ]
     },
     "execution_count": 30,
     "metadata": {},
     "output_type": "execute_result"
    }
   ],
   "source": [
    "# Cast into Department object\n",
    "\n",
    "type(Department(**result)), Department(**result)"
   ]
  },
  {
   "cell_type": "markdown",
   "metadata": {},
   "source": [
    "### Delete a document\n",
    "\n",
    "`delete_one` method is used to delete a single document from the database."
   ]
  },
  {
   "cell_type": "code",
   "execution_count": 33,
   "metadata": {},
   "outputs": [
    {
     "data": {
      "text/plain": [
       "DeleteResult({'n': 1, 'ok': 1.0}, acknowledged=True)"
      ]
     },
     "execution_count": 33,
     "metadata": {},
     "output_type": "execute_result"
    }
   ],
   "source": [
    "result = departments.delete_one({\"_id\": ObjectId('66723bf8370e25ade8e3882d')})\n",
    "\n",
    "result"
   ]
  },
  {
   "cell_type": "code",
   "execution_count": 35,
   "metadata": {},
   "outputs": [
    {
     "data": {
      "text/plain": [
       "0"
      ]
     },
     "execution_count": 35,
     "metadata": {},
     "output_type": "execute_result"
    }
   ],
   "source": [
    "departments.count_documents({})"
   ]
  },
  {
   "cell_type": "markdown",
   "metadata": {},
   "source": [
    "### Bulk writing\n",
    "\n",
    "Bulk writing is important because much of the cost in insert into database is just establishing connection, not actually storing the data.\n",
    "\n",
    "By bulk writing you only have to connect once. As opposed to individual writes, which can make queries take a very long time for no good reason..."
   ]
  },
  {
   "cell_type": "code",
   "execution_count": null,
   "metadata": {},
   "outputs": [],
   "source": [
    "# PSEUDO-CODE: Don't try to actually execute this cell. \n",
    "# \n",
    "#              Just get the idea\n",
    "\n",
    "# Get list of JSON objects. Typically this is done by loading from a .json file\n",
    "dept_json_list = [...]\n",
    "\n",
    "# Create list of BaseModel objects that you want to insert into database (not strictly nececssarry, but good practice)\n",
    "dept_list = [Department(**x) for x in dept_json_list]\n",
    "\n",
    "# Create a list of bulk operations. Here we are only inserting, but that can be done with UpdateOne and specifying upsert=True\n",
    "#   result of this is a list of UpdateOne objects\n",
    "bulk_operations = [UpdateOne({\"_id\": prod.id}, {\"$set\": prod.model_dump(by_alias=True)}, upsert=True) \n",
    "                   for dept in dept_list]\n",
    "\n",
    "# Send the operations to db with bulk_write on the collection\n",
    "departments.bulk_write(bulk_operations)"
   ]
  },
  {
   "cell_type": "code",
   "execution_count": null,
   "metadata": {},
   "outputs": [],
   "source": [
    "# Now to find we can get all collections with a specified faculty (or whatever) value\n",
    "departments.find({\"faculty\": \"Engineering and Computer Science\"}):"
   ]
  },
  {
   "cell_type": "code",
   "execution_count": null,
   "metadata": {},
   "outputs": [],
   "source": [
    "# Alternatively we could match against a regex\n",
    "for result in collection.find({\"faculty\": {\"$regex\": \"bananas\"}}):\n",
    "    pprint(result)"
   ]
  },
  {
   "cell_type": "markdown",
   "metadata": {},
   "source": [
    "**Note:** Reading the mongo db queries takes some time. But it starts to make sense after a bit.\n",
    "\n",
    "I think it's particularly difficult with pymongo, cause everything needs to be wrapped in a string. \n",
    "\n",
    "The key is that it is uses nested dictionaries."
   ]
  },
  {
   "cell_type": "markdown",
   "metadata": {},
   "source": [
    "### Delete entire database\n",
    "\n",
    "The following cell will delete the database and collections using the `drop_database` method on the database object.\n",
    "\n",
    "To drop just a collection use `drop_collection`"
   ]
  },
  {
   "cell_type": "code",
   "execution_count": null,
   "metadata": {},
   "outputs": [],
   "source": [
    "# db.drop_collection(\"departments\")\n",
    "client.drop_database(\"db\")\n",
    "client.close()"
   ]
  }
 ],
 "metadata": {
  "kernelspec": {
   "display_name": ".venv",
   "language": "python",
   "name": "python3"
  },
  "language_info": {
   "codemirror_mode": {
    "name": "ipython",
    "version": 3
   },
   "file_extension": ".py",
   "mimetype": "text/x-python",
   "name": "python",
   "nbconvert_exporter": "python",
   "pygments_lexer": "ipython3",
   "version": "3.12.3"
  }
 },
 "nbformat": 4,
 "nbformat_minor": 2
}
