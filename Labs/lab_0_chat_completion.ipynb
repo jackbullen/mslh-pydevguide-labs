{
 "cells": [
  {
   "cell_type": "markdown",
   "metadata": {},
   "source": [
    "# Chat completion"
   ]
  },
  {
   "cell_type": "code",
   "execution_count": 8,
   "metadata": {},
   "outputs": [],
   "source": [
    "import os\n",
    "from openai import AzureOpenAI\n",
    "from dotenv import load_dotenv\n",
    "load_dotenv()\n",
    "from pprint import pprint"
   ]
  },
  {
   "cell_type": "code",
   "execution_count": 12,
   "metadata": {},
   "outputs": [
    {
     "name": "stdout",
     "output_type": "stream",
     "text": [
      "('Apologies for any confusion. As an AI assistant, I \"even\" by processing and '\n",
      " 'analyzing data or queries, providing relevant and accurate information, and '\n",
      " 'assisting users in various tasks. I follow predefined algorithms and utilize '\n",
      " 'natural language processing techniques to understand and respond to user '\n",
      " 'inputs effectively. Is there anything specific you would like assistance '\n",
      " 'with?')\n"
     ]
    }
   ],
   "source": [
    "chatClient = AzureOpenAI(\n",
    "  azure_endpoint=os.getenv(\"AOAI_ENDPOINT\"), \n",
    "  api_key=os.getenv(\"AOAI_KEY\"),  \n",
    "  api_version=\"2023-05-15\")\n",
    "\n",
    "chatResponse = chatClient.chat.completions.create(\n",
    "    model=\"gpt-35-turbo\",\n",
    "    messages=[\n",
    "        {\"role\": \"system\", \"content\": \"You are a helpful assistant.\"},\n",
    "        {\"role\": \"user\", \"content\": \"Do you even?\"},\n",
    "        {\"role\": \"assistant\", \"content\": \"Yes, I do even.\"},\n",
    "        {\"role\": \"user\", \"content\": \"\"\"OK, then tell me specifically how you even. \n",
    "                                       Don't just blabber about being an ai assistant\"\"\"}])\n",
    "\n",
    "pprint(chatResponse.choices[0].message.content)"
   ]
  }
 ],
 "metadata": {
  "kernelspec": {
   "display_name": "Python 3",
   "language": "python",
   "name": "python3"
  },
  "language_info": {
   "codemirror_mode": {
    "name": "ipython",
    "version": 3
   },
   "file_extension": ".py",
   "mimetype": "text/x-python",
   "name": "python",
   "nbconvert_exporter": "python",
   "pygments_lexer": "ipython3",
   "version": "3.12.3"
  }
 },
 "nbformat": 4,
 "nbformat_minor": 2
}
