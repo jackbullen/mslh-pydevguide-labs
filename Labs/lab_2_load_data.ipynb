{
 "cells": [
  {
   "cell_type": "markdown",
   "metadata": {},
   "source": [
    "# Load data into Cosmos DB using the MongoDB API\n",
    "\n",
    "This notebook demonstrates how to load data into Cosmos DB from Cosmic Works JSON files into the database using **Pymongo** and the MongoDB API."
   ]
  },
  {
   "cell_type": "code",
   "execution_count": 2,
   "metadata": {},
   "outputs": [
    {
     "data": {
      "text/plain": [
       "True"
      ]
     },
     "execution_count": 2,
     "metadata": {},
     "output_type": "execute_result"
    }
   ],
   "source": [
    "import os\n",
    "import json\n",
    "import pymongo\n",
    "from pymongo import UpdateOne, DeleteMany\n",
    "from models import CalendarCourse, Degree, Course, Department, User\n",
    "from dotenv import load_dotenv\n",
    "load_dotenv()"
   ]
  },
  {
   "cell_type": "markdown",
   "metadata": {},
   "source": [
    "### Load data"
   ]
  },
  {
   "cell_type": "code",
   "execution_count": 3,
   "metadata": {},
   "outputs": [],
   "source": [
    "with open('../data/courses.json') as f:\n",
    "    courses = json.load(f)\n",
    "with open('../data/programs.json') as f:\n",
    "    degrees = json.load(f)\n",
    "with open('../data/departments.json') as f:\n",
    "    departments = json.load(f)\n",
    "with open('../data/sections.json') as f:\n",
    "    sections = json.load(f)\n",
    "with open('../data/users.json', 'r') as f:\n",
    "    users = json.load(f)"
   ]
  },
  {
   "cell_type": "markdown",
   "metadata": {},
   "source": [
    "### Connect to cosmos database"
   ]
  },
  {
   "cell_type": "code",
   "execution_count": 4,
   "metadata": {},
   "outputs": [
    {
     "name": "stderr",
     "output_type": "stream",
     "text": [
      "/var/folders/b6/zjrzfvq14h12kvt3_h7c4fwr0000gn/T/ipykernel_40729/2629379911.py:3: UserWarning: You appear to be connected to a CosmosDB cluster. For more information regarding feature compatibility and support please visit https://www.mongodb.com/supportability/cosmosdb\n",
      "  db_client = pymongo.MongoClient(CONNECTION_STRING)\n"
     ]
    }
   ],
   "source": [
    "CONNECTION_STRING = os.getenv(\"DB_CONNECTION_STRING\")\n",
    "\n",
    "db_client = pymongo.MongoClient(CONNECTION_STRING)\n",
    "db = db_client[\"db\"]\n",
    "\n",
    "cal_course_coll = db[\"calendar_courses\"]\n",
    "course_coll = db[\"courses\"]\n",
    "degree_coll = db[\"degrees\"]\n",
    "department_coll = db[\"departments\"]\n",
    "users_coll = db[\"users\"]\n",
    "user_courses_coll = db[\"user_courses\"]"
   ]
  },
  {
   "cell_type": "markdown",
   "metadata": {},
   "source": [
    "### Clear collections"
   ]
  },
  {
   "cell_type": "code",
   "execution_count": 5,
   "metadata": {},
   "outputs": [
    {
     "name": "stdout",
     "output_type": "stream",
     "text": [
      "Database cleared\n"
     ]
    }
   ],
   "source": [
    "course_coll.bulk_write([DeleteMany({})])\n",
    "degree_coll.bulk_write([DeleteMany({})])\n",
    "department_coll.bulk_write([DeleteMany({})])\n",
    "users_coll.bulk_write([DeleteMany({})])\n",
    "user_courses_coll.bulk_write([DeleteMany({})])\n",
    "print(\"Database cleared\")"
   ]
  },
  {
   "cell_type": "markdown",
   "metadata": {},
   "source": [
    "### Insert users, departments, calendar courses, degrees, and 2024/2025 courses and sections\n",
    "\n",
    "Might look like alot, but it's just repeated code"
   ]
  },
  {
   "cell_type": "code",
   "execution_count": null,
   "metadata": {},
   "outputs": [],
   "source": [
    "# User\n",
    "users = [User(**data) for data in users]\n",
    "users_coll.bulk_write([UpdateOne({\"_id\": obj.id}, {\"$set\": obj.model_dump(by_alias=True)}, upsert=True) \n",
    "                        for obj in users])\n",
    "\n",
    "# Department\n",
    "departments = [Department(**data) for data in departments.values()]\n",
    "department_coll.bulk_write([UpdateOne({\"_id\": obj.code}, {\"$set\": obj.model_dump(by_alias=True)}, upsert=True) \n",
    "                        for obj in departments])\n",
    "\n",
    "# CalendarCourse\n",
    "calendar_course = [CalendarCourse(**data) for data in courses.values() if 'embedding' in data]\n",
    "cal_course_coll.bulk_write([UpdateOne({\"_id\": obj.code}, {\"$set\": obj.model_dump(by_alias=True)}, upsert=True) \n",
    "                        for obj in calendar_course])\n",
    "cal_course_coll.create_index([(\"name\", pymongo.ASCENDING)], unique=False)\n",
    "\n",
    "# Degree\n",
    "degrees = [Degree(**data) for data in degrees.values()]\n",
    "degree_coll.bulk_write([UpdateOne({\"_id\": obj.code}, {\"$set\": obj.model_dump(by_alias=True)}, upsert=True) \n",
    "                        for obj in degrees])\n",
    "\n",
    "# Course\n",
    "courses_sections = [Course(**data) for data in sorted(sections.values(), key=lambda x: x['code'])]\n",
    "course_coll.bulk_write([UpdateOne({\"_id\": obj.code}, {\"$set\": obj.model_dump(by_alias=True)}, upsert=True) \n",
    "                        for obj in courses_sections])"
   ]
  },
  {
   "cell_type": "code",
   "execution_count": 8,
   "metadata": {},
   "outputs": [],
   "source": [
    "db_client.close()"
   ]
  },
  {
   "cell_type": "code",
   "execution_count": null,
   "metadata": {},
   "outputs": [],
   "source": []
  }
 ],
 "metadata": {
  "kernelspec": {
   "display_name": ".venv",
   "language": "python",
   "name": "python3"
  },
  "language_info": {
   "codemirror_mode": {
    "name": "ipython",
    "version": 3
   },
   "file_extension": ".py",
   "mimetype": "text/x-python",
   "name": "python",
   "nbconvert_exporter": "python",
   "pygments_lexer": "ipython3",
   "version": "3.12.3"
  }
 },
 "nbformat": 4,
 "nbformat_minor": 2
}
