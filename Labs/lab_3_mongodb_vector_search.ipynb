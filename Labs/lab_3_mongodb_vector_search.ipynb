{
 "cells": [
  {
   "cell_type": "markdown",
   "metadata": {},
   "source": [
    "# Vector Search using vCore-based Azure Cosmos DB for MongoDB\n",
    "\n",
    "This notebook demonstrates using an Azure OpenAI embedding model to vectorize documents already stored in Azure Cosmos DB API for MongoDB, storing the embedding vectors and the creation of a vector index. Lastly, the notebook will demonstrate how to query the vector index to find similar documents.\n",
    "\n",
    "*This lab expects the data that was loaded in Lab 2.*"
   ]
  },
  {
   "cell_type": "code",
   "execution_count": 2,
   "metadata": {},
   "outputs": [
    {
     "data": {
      "text/plain": [
       "True"
      ]
     },
     "execution_count": 2,
     "metadata": {},
     "output_type": "execute_result"
    }
   ],
   "source": [
    "import os\n",
    "import time\n",
    "import json\n",
    "from pprint import pprint\n",
    "\n",
    "import pymongo\n",
    "from openai import AzureOpenAI\n",
    "\n",
    "from models import CalendarCourse, Degree, Course, Department, User\n",
    "\n",
    "from dotenv import load_dotenv\n",
    "load_dotenv()"
   ]
  },
  {
   "cell_type": "code",
   "execution_count": 3,
   "metadata": {},
   "outputs": [],
   "source": [
    "CONNECTION_STRING = os.getenv(\"DB_CONNECTION_STRING\")\n",
    "EMBEDDINGS_DEPLOYMENT_NAME = os.getenv(\"EMBEDDINGS_DEPLOYMENT_NAME\")\n",
    "COMPLETIONS_DEPLOYMENT_NAME = os.getenv(\"COMPLETIONS_DEPLOYMENT_NAME\")\n",
    "AOAI_ENDPOINT = os.getenv(\"AOAI_ENDPOINT\")\n",
    "AOAI_KEY = os.getenv(\"AOAI_KEY\")\n",
    "AOAI_API_VERSION = os.getenv(\"AOAI_API_VERSION\")"
   ]
  },
  {
   "cell_type": "markdown",
   "metadata": {},
   "source": [
    "### Connect to CosmosDB Pymongo client and Azure OpenAI client"
   ]
  },
  {
   "cell_type": "code",
   "execution_count": 4,
   "metadata": {},
   "outputs": [
    {
     "name": "stderr",
     "output_type": "stream",
     "text": [
      "/var/folders/b6/zjrzfvq14h12kvt3_h7c4fwr0000gn/T/ipykernel_41142/2542566418.py:1: UserWarning: You appear to be connected to a CosmosDB cluster. For more information regarding feature compatibility and support please visit https://www.mongodb.com/supportability/cosmosdb\n",
      "  db_client = pymongo.MongoClient(CONNECTION_STRING)\n"
     ]
    }
   ],
   "source": [
    "db_client = pymongo.MongoClient(CONNECTION_STRING)\n",
    "db = db_client.db\n",
    "\n",
    "ai_client = AzureOpenAI(\n",
    "    azure_endpoint = AOAI_ENDPOINT,\n",
    "    api_version = AOAI_API_VERSION,\n",
    "    api_key = AOAI_KEY)"
   ]
  },
  {
   "cell_type": "markdown",
   "metadata": {},
   "source": [
    "## Vectorize and store the embeddings in each document\n",
    "\n",
    "The process of creating a vector embedding field on each document only needs to be done once. However, if a document changes, the vector embedding field will need to be updated with an updated vector."
   ]
  },
  {
   "cell_type": "code",
   "execution_count": 4,
   "metadata": {},
   "outputs": [],
   "source": [
    "def generate_embeddings(text):\n",
    "    \"\"\"Generate embeddings from string of text using the deployed Azure OpenAI API embeddings model\"\"\"\n",
    "    response = ai_client.embeddings.create(input=text, model=EMBEDDINGS_DEPLOYMENT_NAME)\n",
    "    embeddings = response.data[0].embedding\n",
    "    return embeddings"
   ]
  },
  {
   "cell_type": "code",
   "execution_count": 5,
   "metadata": {},
   "outputs": [
    {
     "data": {
      "text/plain": [
       "(1536, 1.000000032497339)"
      ]
     },
     "execution_count": 5,
     "metadata": {},
     "output_type": "execute_result"
    }
   ],
   "source": [
    "# demonstrate embeddings generation using a test string\n",
    "\n",
    "x = generate_embeddings(\"hello, world\")\n",
    "\n",
    "len(x), sum([xi**2 for xi in x])**0.5"
   ]
  },
  {
   "cell_type": "markdown",
   "metadata": {},
   "source": [
    "### Vectorize and update all documents in the Cosmic Works database"
   ]
  },
  {
   "cell_type": "code",
   "execution_count": null,
   "metadata": {},
   "outputs": [],
   "source": [
    "\n",
    "def add_collection_content_vector_field(collection, keys):\n",
    "    \"\"\"Vectorize each string made of subset of keys from doc and store in contentVector field\"\"\"\n",
    "\n",
    "    # Get all documents for the collection\n",
    "    docs = list(collection.find({}))\n",
    "\n",
    "    # Compute embeddings and prepare bulk operations\n",
    "    bulk_operations = []\n",
    "    for doc in docs:\n",
    "        if \"contentVector\" in doc:\n",
    "            continue\n",
    "        \n",
    "        # Get the string content from the document for the specified keys\n",
    "        filtered_info = {k: v for k, v in doc.items() if k in keys}\n",
    "        content = ', '.join([str(v) for v in filtered_info.values()])\n",
    "\n",
    "        # Generate embedding and put it in database\n",
    "        content_vector = generate_embeddings(content)       \n",
    "        bulk_operations.append(pymongo.UpdateOne(\n",
    "            {\"_id\": doc[\"_id\"]},\n",
    "            {\"$set\": {\"embedding\": content_vector}},\n",
    "            upsert=True\n",
    "        ))\n",
    "\n",
    "    # Bulk write UpdateOnes with added embeddings\n",
    "    collection.bulk_write(bulk_operations)"
   ]
  },
  {
   "cell_type": "markdown",
   "metadata": {},
   "source": [
    "### Add embeddings to the courses and degrees collections"
   ]
  },
  {
   "cell_type": "code",
   "execution_count": null,
   "metadata": {},
   "outputs": [],
   "source": [
    "course_keys = [\"code\", \"name\", \"description\"]\n",
    "add_collection_content_vector_field(\"courses\", course_keys)"
   ]
  },
  {
   "cell_type": "code",
   "execution_count": null,
   "metadata": {},
   "outputs": [],
   "source": [
    "degree_keys = [\"code\", \"name\", \"cred\"]\n",
    "add_collection_content_vector_field(\"degrees\", degree_keys)"
   ]
  },
  {
   "cell_type": "markdown",
   "metadata": {},
   "source": [
    "### Last step is to put an index on the database for quick lookup"
   ]
  },
  {
   "cell_type": "code",
   "execution_count": 9,
   "metadata": {},
   "outputs": [
    {
     "data": {
      "text/plain": [
       "{'raw': {'defaultShard': {'numIndexesBefore': 1,\n",
       "   'numIndexesAfter': 2,\n",
       "   'createdCollectionAutomatically': False,\n",
       "   'ok': 1}},\n",
       " 'ok': 1}"
      ]
     },
     "execution_count": 9,
     "metadata": {},
     "output_type": "execute_result"
    }
   ],
   "source": [
    "# Course index\n",
    "db.command({\n",
    "  'createIndexes': 'calendar_courses',\n",
    "  'indexes': [\n",
    "    {\n",
    "      'name': 'VectorSearchIndex',\n",
    "      'key': {\n",
    "        \"embedding\": \"cosmosSearch\"\n",
    "      },\n",
    "      'cosmosSearchOptions': {\n",
    "        'kind': 'vector-ivf',  \n",
    "        'numLists': 1,         \n",
    "        'similarity': 'COS',   \n",
    "        'dimensions': 1536\n",
    "      }\n",
    "    }\n",
    "  ]\n",
    "})\n",
    "\n",
    "db.command({\n",
    "  'createIndexes': 'degrees', # collection name\n",
    "  'indexes': [ # array of indexes, here there is only one index\n",
    "    {\n",
    "      'name': 'VectorSearchIndex', # name of the index to be created, \n",
    "                                   # nice to keep these all the same across collections to simplify next steps\n",
    "      'key': {\n",
    "        \"embedding\": \"cosmosSearch\" # field name\n",
    "      },\n",
    "      'cosmosSearchOptions': {\n",
    "        'kind': 'vector-ivf',  # indexing algorithm\n",
    "        'numLists': 1,         # number of inverted lists\n",
    "        'similarity': 'COS',   # cosine similarity\n",
    "        'dimensions': 1536,\n",
    "      }\n",
    "    }\n",
    "  ]\n",
    "})"
   ]
  },
  {
   "cell_type": "code",
   "execution_count": 8,
   "metadata": {},
   "outputs": [],
   "source": [
    "# To remove an index\n",
    "\n",
    "# db.degrees.drop_index('VectorSearchIndex')"
   ]
  },
  {
   "cell_type": "markdown",
   "metadata": {},
   "source": [
    "### Use vector search in vCore-based Azure Cosmos DB for MongoDB"
   ]
  },
  {
   "cell_type": "code",
   "execution_count": 47,
   "metadata": {},
   "outputs": [
    {
     "name": "stdout",
     "output_type": "stream",
     "text": [
      "MNR-MATH Mathematics General  0.804171\n",
      "MNR-CMSC Computer Science General  0.804171\n",
      "MNR-PHYS Physics General  0.804171\n",
      "MNR-STAT Statistics General  0.804171\n",
      "MNR-COSC Computer Science Minor  0.802024\n",
      "MNR-APPL Applications of Psychology and Leadership Minor  0.802024\n",
      "MNR-CSSY Computer Systems Minor  0.802024\n",
      "MNR-ASTX Astronomy Minor  0.802024\n",
      "MNR-BUSX Business Minor  0.802024\n",
      "MNR-AE Art Education Minor  0.802024\n",
      "\n",
      "PHYS326 Electricity and Magnetism  0.807680\n",
      "GMST365 Marx, Nietzsche, Freud  0.806756\n",
      "PHYS500A Quantum Mechanics  0.806253\n",
      "PHYS415 General Relativity and Cosmology  0.805927\n",
      "PHYS321A Classical Mechanics I  0.805449\n",
      "PHYS502A Classical Electrodynamics  0.803858\n",
      "GMST355 German Expressionism (1910-1933)  0.802304\n",
      "PHYS501A Quantum Theory and Quantum Fields  0.801889\n",
      "PHYS410 Topics in Mathematical Physics I  0.801147\n",
      "PHYS321B Classical Mechanics II  0.800799\n"
     ]
    }
   ],
   "source": [
    "query = \"Gauss\"\n",
    "\n",
    "query_embedding = generate_embeddings(query)    \n",
    "pipeline = [\n",
    "    {\n",
    "        '$search': {\n",
    "            \"cosmosSearch\": {\n",
    "                \"vector\": query_embedding,\n",
    "                \"path\": \"embedding\",\n",
    "                \"k\": 10\n",
    "            },\n",
    "            \"returnStoredSource\": True }},\n",
    "    {'$project': { 'similarity': { '$meta': 'searchScore' }, 'document' : '$$ROOT' } }\n",
    "]\n",
    "\n",
    "for result in db.degrees.aggregate(pipeline):\n",
    "    degree = result['document']\n",
    "    score = result['similarity']\n",
    "    d = Degree(**degree)\n",
    "    print(d.code, d.title, d.cred, f'{score: .6f}')\n",
    "\n",
    "print()\n",
    "\n",
    "for result in db.calendar_courses.aggregate(pipeline):\n",
    "    course = result['document']\n",
    "    score = result['similarity']\n",
    "    c = CalendarCourse(**course)\n",
    "    print(c.code, c.name, f'{score: .6f}')"
   ]
  },
  {
   "cell_type": "markdown",
   "metadata": {},
   "source": [
    "### Basic RAG pattern"
   ]
  },
  {
   "cell_type": "code",
   "execution_count": 54,
   "metadata": {},
   "outputs": [],
   "source": [
    "def generate_embedding(ai_client, text: str):\n",
    "    response = ai_client.embeddings.create(input=text, model=\"text-embedding-ada-002\")\n",
    "    embeddings = response.data[0].embedding\n",
    "    return embeddings"
   ]
  },
  {
   "cell_type": "code",
   "execution_count": 55,
   "metadata": {},
   "outputs": [],
   "source": [
    "def vector_search(collection, embedded_query, num_results=3):\n",
    "    \"\"\"\n",
    "    Perform a vector search on the specified collection by vectorizing\n",
    "    the query and searching the vector index for the most similar documents.\n",
    "\n",
    "    Returns a list of the top num_results most similar documents\n",
    "    \"\"\"\n",
    "    pipeline = [\n",
    "        {\n",
    "            '$search': {\n",
    "                \"cosmosSearch\": {\n",
    "                    \"vector\": embedded_query,\n",
    "                    \"path\": \"embedding\",\n",
    "                    \"k\": num_results\n",
    "                },\n",
    "                \"returnStoredSource\": True }},\n",
    "        {'$project': { 'similarity': { '$meta': 'searchScore' }, 'document' : '$$ROOT' } }\n",
    "    ]\n",
    "    results = collection.aggregate(pipeline)\n",
    "    return results\n"
   ]
  },
  {
   "cell_type": "code",
   "execution_count": 56,
   "metadata": {},
   "outputs": [],
   "source": [
    "def calendar_course_to_string(doc):\n",
    "    \"\"\"\n",
    "    Convert a CalendarCourse to a string for passing to LLM\n",
    "    \"\"\"\n",
    "    return doc['_id'] + \": \" + doc['name'] + \"\\n\" + doc['description']"
   ]
  },
  {
   "cell_type": "code",
   "execution_count": 65,
   "metadata": {},
   "outputs": [],
   "source": [
    "system_prompt = \"\"\"\n",
    "You are a helpful assistant.\n",
    "You are given a prompt and context and you provide more information using your general knowledge about these courses and topics.\n",
    "Only reference courses that have been explicitly provided to you as context.\n",
    "\"\"\"\n",
    "\n",
    "def chat(ai_client, augmented_question: str):\n",
    "    \"\"\"\n",
    "    Get Chat Completion using augmented prompt\n",
    "    \"\"\"\n",
    "    messages = [{\"role\": \"system\", \"content\": system_prompt},\n",
    "                {\"role\": \"user\", \"content\": augmented_question}]\n",
    "    completion = ai_client.chat.completions.create(messages=messages, model='gpt-35-turbo', temperature=0.42)\n",
    "    return completion.choices[0].message.content"
   ]
  },
  {
   "cell_type": "code",
   "execution_count": 80,
   "metadata": {},
   "outputs": [
    {
     "name": "stdout",
     "output_type": "stream",
     "text": [
      "Augmented question \n",
      "\n",
      " Prompt: What courses do you have about vampires?\n",
      "Context:\n",
      "GMST454: A Cultural History of Vampires in Literature and Film\n",
      "A study of literary and cinematic vampires in historical context. Without focusing exclusively on German literature and film, follows the vampire myth and its various guises from classicism to postmodernism in novels and films.\n",
      "ENSH312: Horror\n",
      "Study of horror, textual and visual; the evolution of horror tropes and their adaptation to anxieties about social change, shifting ideas of race and gender, technological advancement and political impotence; horror as cultural commentary. May include short stories, novels, film or other genres.\n",
      "SLST501: Introduction to the Disciplines of Germanic and Slavic Studies\n",
      "An introduction to the research specialties that make up Germanic and Slavic Studies: literary and cultural studies, film studies, cultural history and second language acquisition. May include sessions on how to write a research grant proposal, do sophisticated library research, prepare a bibliography and write a thesis proposal.\n",
      "ENSH310: Speculative Fiction\n",
      "Study of fiction that imagines alternate histories, futures or worlds (such as science fiction, fantasy, utopian, dystopian, and post-apocalyptic).\n",
      "GMST501: Introduction to the Disciplines of Germanic and Slavic Studies\n",
      "An introduction to the research specialities that make up Germanic and Slavic Studies: literary and cultural studies, film studies, cultural history and second language acquisition. May include sessions on how to write a research grant proposal, do sophisticated library research, prepare a bibliography and write a thesis proposal.\n",
      "ENSH503: Special Studies in Literature and Media \n",
      "Advanced study of literature and/or media, including various methodologies, approaches, and concepts. \n",
      "ENSH324: Comics and Graphic Novels\n",
      "Study of literature that combines text and image, from comics to graphic novels.\n",
      "GMST503: Teaching in the Disciplines of Germanic and Slavic Studies\n",
      "A practice-based introduction to course design, teaching strategies, methodologies and assessment tools in the teaching areas of Germanic and Slavic Studies.\n",
      "GMST587: Practicum in Holocaust Studies\n",
      "An individually designed creative project, internship, or archival research paper based on a hands-on approach to Holocaust Studies (duration: six weeks).\n",
      "ENSH532: Topics in Literary History \n",
      "Introduces students to advanced study of literary history; may be grounded in a traditional literary historical period (e.g., medieval, renaissance, Victorian), and/or may take up issues of periodization, canonization, institutional legitimacy and the concept of “literary history” and/or “literary histories”; may refer to other literary traditions and antecedents as contexts.\n"
     ]
    }
   ],
   "source": [
    "query = \"What courses do you have about vampires?\"\n",
    "\n",
    "# Embed the query\n",
    "embedded_query = generate_embedding(ai_client, query)\n",
    "\n",
    "# Perform vector search on the query\n",
    "search_results = vector_search(db.calendar_courses, embedded_query, 10)\n",
    "\n",
    "# Create augmented question\n",
    "augmented_question = \"Prompt: \" + query + \"\\nContext:\"\n",
    "for result in search_results:\n",
    "    doc = result['document']\n",
    "    docstring = calendar_course_to_string(doc)\n",
    "    augmented_question += \"\\n\" + docstring\n",
    "print(\"Augmented question \\n\\n\", augmented_question)\n",
    "\n",
    "chat_response = chat(ai_client, augmented_question)"
   ]
  },
  {
   "cell_type": "code",
   "execution_count": null,
   "metadata": {},
   "outputs": [
    {
     "name": "stdout",
     "output_type": "stream",
     "text": [
      "('Based on the provided courses, there is only one course that specifically '\n",
      " 'focuses on vampires, which is GMST454: A Cultural History of Vampires in '\n",
      " 'Literature and Film. This course explores the vampire myth and its various '\n",
      " 'guises in literature and film from classicism to postmodernism.\\n'\n",
      " '\\n'\n",
      " 'However, if you are interested in horror as a genre, ENSH312: Horror is a '\n",
      " 'course that studies horror in both textual and visual forms. It explores the '\n",
      " 'evolution of horror tropes and their adaptation to anxieties about social '\n",
      " 'change, shifting ideas of race and gender, technological advancement, and '\n",
      " 'political impotence. This course may include short stories, novels, film, or '\n",
      " 'other genres.\\n'\n",
      " '\\n'\n",
      " 'If you are interested in speculative fiction, ENSH310: Speculative Fiction '\n",
      " 'is a course that studies fiction that imagines alternate histories, futures, '\n",
      " 'or worlds, such as science fiction, fantasy, utopian, dystopian, and '\n",
      " 'post-apocalyptic.\\n'\n",
      " '\\n'\n",
      " 'Additionally, ENSH324: Comics and Graphic Novels is a course that studies '\n",
      " 'literature that combines text and image, from comics to graphic novels. This '\n",
      " 'course may be of interest if you are interested in the visual representation '\n",
      " 'of horror and vampires in literature.\\n'\n",
      " '\\n'\n",
      " 'If you are interested in literary history, ENSH532: Topics in Literary '\n",
      " 'History is a course that introduces students to advanced study of literary '\n",
      " 'history. While this course does not specifically focus on vampires, it may '\n",
      " 'provide a broader context for understanding the historical and cultural '\n",
      " 'significance of vampires in literature.')\n"
     ]
    }
   ],
   "source": [
    "pprint(chat_response)"
   ]
  },
  {
   "cell_type": "code",
   "execution_count": null,
   "metadata": {},
   "outputs": [],
   "source": []
  }
 ],
 "metadata": {
  "kernelspec": {
   "display_name": ".venv",
   "language": "python",
   "name": "python3"
  },
  "language_info": {
   "codemirror_mode": {
    "name": "ipython",
    "version": 3
   },
   "file_extension": ".py",
   "mimetype": "text/x-python",
   "name": "python",
   "nbconvert_exporter": "python",
   "pygments_lexer": "ipython3",
   "version": "3.12.3"
  }
 },
 "nbformat": 4,
 "nbformat_minor": 2
}
